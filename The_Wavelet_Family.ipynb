{
  "nbformat": 4,
  "nbformat_minor": 0,
  "metadata": {
    "colab": {
      "name": "The Wavelet Family.ipynb",
      "provenance": [],
      "authorship_tag": "ABX9TyOn/uW3GuJ08wKSOOnI3B0i",
      "include_colab_link": true
    },
    "kernelspec": {
      "name": "python3",
      "display_name": "Python 3"
    },
    "language_info": {
      "name": "python"
    }
  },
  "cells": [
    {
      "cell_type": "markdown",
      "metadata": {
        "id": "view-in-github",
        "colab_type": "text"
      },
      "source": [
        "<a href=\"https://colab.research.google.com/github/akumarpandey686/Application-of-Wavelet-Scattering-Network/blob/main/The_Wavelet_Family.ipynb\" target=\"_parent\"><img src=\"https://colab.research.google.com/assets/colab-badge.svg\" alt=\"Open In Colab\"/></a>"
      ]
    },
    {
      "cell_type": "markdown",
      "source": [
        "Reference : https://pywavelets.readthedocs.io/en/latest/regression/wavelet.html"
      ],
      "metadata": {
        "id": "Yhn8ML7FQU0T"
      }
    },
    {
      "cell_type": "code",
      "execution_count": 3,
      "metadata": {
        "id": "Og1IfuNtP6m3"
      },
      "outputs": [],
      "source": [
        "import pywt"
      ]
    },
    {
      "cell_type": "code",
      "source": [
        "pywt.families()"
      ],
      "metadata": {
        "colab": {
          "base_uri": "https://localhost:8080/"
        },
        "id": "NXw8aPr7QEzY",
        "outputId": "687a2f31-b349-4a0a-e28e-f400ee30e02b"
      },
      "execution_count": 4,
      "outputs": [
        {
          "output_type": "execute_result",
          "data": {
            "text/plain": [
              "['haar',\n",
              " 'db',\n",
              " 'sym',\n",
              " 'coif',\n",
              " 'bior',\n",
              " 'rbio',\n",
              " 'dmey',\n",
              " 'gaus',\n",
              " 'mexh',\n",
              " 'morl',\n",
              " 'cgau',\n",
              " 'shan',\n",
              " 'fbsp',\n",
              " 'cmor']"
            ]
          },
          "metadata": {},
          "execution_count": 4
        }
      ]
    },
    {
      "cell_type": "code",
      "source": [
        "for family in pywt.families():\n",
        "        print(\"%s family: \" % family + ', '.join(pywt.wavelist(family)))"
      ],
      "metadata": {
        "colab": {
          "base_uri": "https://localhost:8080/"
        },
        "id": "FUosl87DQHD_",
        "outputId": "d5043b57-caf2-4c41-e062-6fb71101321e"
      },
      "execution_count": 7,
      "outputs": [
        {
          "output_type": "stream",
          "name": "stdout",
          "text": [
            "haar family: haar\n",
            "db family: db1, db2, db3, db4, db5, db6, db7, db8, db9, db10, db11, db12, db13, db14, db15, db16, db17, db18, db19, db20, db21, db22, db23, db24, db25, db26, db27, db28, db29, db30, db31, db32, db33, db34, db35, db36, db37, db38\n",
            "sym family: sym2, sym3, sym4, sym5, sym6, sym7, sym8, sym9, sym10, sym11, sym12, sym13, sym14, sym15, sym16, sym17, sym18, sym19, sym20\n",
            "coif family: coif1, coif2, coif3, coif4, coif5, coif6, coif7, coif8, coif9, coif10, coif11, coif12, coif13, coif14, coif15, coif16, coif17\n",
            "bior family: bior1.1, bior1.3, bior1.5, bior2.2, bior2.4, bior2.6, bior2.8, bior3.1, bior3.3, bior3.5, bior3.7, bior3.9, bior4.4, bior5.5, bior6.8\n",
            "rbio family: rbio1.1, rbio1.3, rbio1.5, rbio2.2, rbio2.4, rbio2.6, rbio2.8, rbio3.1, rbio3.3, rbio3.5, rbio3.7, rbio3.9, rbio4.4, rbio5.5, rbio6.8\n",
            "dmey family: dmey\n",
            "gaus family: gaus1, gaus2, gaus3, gaus4, gaus5, gaus6, gaus7, gaus8\n",
            "mexh family: mexh\n",
            "morl family: morl\n",
            "cgau family: cgau1, cgau2, cgau3, cgau4, cgau5, cgau6, cgau7, cgau8\n",
            "shan family: shan\n",
            "fbsp family: fbsp\n",
            "cmor family: cmor\n"
          ]
        }
      ]
    },
    {
      "cell_type": "markdown",
      "source": [
        "Creating Wavelet objects.\n",
        "Now when we know all the names let’s finally create a Wavelet object:"
      ],
      "metadata": {
        "id": "agpDUw4TRxqz"
      }
    },
    {
      "cell_type": "code",
      "source": [
        "w = pywt.Wavelet('db3')"
      ],
      "metadata": {
        "id": "tEF9ziR1R0ja"
      },
      "execution_count": 12,
      "outputs": []
    },
    {
      "cell_type": "markdown",
      "source": [
        "Wavelet properties"
      ],
      "metadata": {
        "id": "ludsVP76SI8B"
      }
    },
    {
      "cell_type": "code",
      "source": [
        "print(w)"
      ],
      "metadata": {
        "colab": {
          "base_uri": "https://localhost:8080/"
        },
        "id": "FK2sxtBMSE5S",
        "outputId": "d652022c-4d7f-43e3-f0ac-ede0190e6c62"
      },
      "execution_count": 13,
      "outputs": [
        {
          "output_type": "stream",
          "name": "stdout",
          "text": [
            "Wavelet db3\n",
            "  Family name:    Daubechies\n",
            "  Short name:     db\n",
            "  Filters length: 6\n",
            "  Orthogonal:     True\n",
            "  Biorthogonal:   True\n",
            "  Symmetry:       asymmetric\n",
            "  DWT:            True\n",
            "  CWT:            False\n"
          ]
        }
      ]
    },
    {
      "cell_type": "code",
      "source": [
        ""
      ],
      "metadata": {
        "id": "ON7se8UhSPmS"
      },
      "execution_count": null,
      "outputs": []
    },
    {
      "cell_type": "markdown",
      "source": [
        "The most important information are the wavelet filters coefficients, which are used in Discrete Wavelet Transform. These coefficients can be obtained via the dec_lo, Wavelet.dec_hi, rec_lo and rec_hi attributes, which corresponds to lowpass and highpass decomposition filters and lowpass and highpass reconstruction filters respectively:"
      ],
      "metadata": {
        "id": "rnVZYK-nTLU4"
      }
    },
    {
      "cell_type": "code",
      "source": [
        "def print_array(arr):\n",
        "...     print(\"[%s]\" % \", \".join([\"%.14f\" % x for x in arr]))"
      ],
      "metadata": {
        "id": "nTmud95OTNTd"
      },
      "execution_count": 14,
      "outputs": []
    },
    {
      "cell_type": "markdown",
      "source": [
        "Another way to get the filters data is to use the filter_bank attribute, which returns all four filters in a tuple:"
      ],
      "metadata": {
        "id": "Rl0hDn3qTpUJ"
      }
    },
    {
      "cell_type": "code",
      "source": [
        "w.filter_bank == (w.dec_lo, w.dec_hi, w.rec_lo, w.rec_hi)"
      ],
      "metadata": {
        "colab": {
          "base_uri": "https://localhost:8080/"
        },
        "id": "W0vCaxnmTpx5",
        "outputId": "c98ef1e3-a517-4ba2-8d63-0dc767d182a4"
      },
      "execution_count": 15,
      "outputs": [
        {
          "output_type": "execute_result",
          "data": {
            "text/plain": [
              "True"
            ]
          },
          "metadata": {},
          "execution_count": 15
        }
      ]
    },
    {
      "cell_type": "markdown",
      "source": [
        "Other Wavelet’s properties are:"
      ],
      "metadata": {
        "id": "iO7ZNwLaTxeg"
      }
    },
    {
      "cell_type": "code",
      "source": [
        "print(w.name)"
      ],
      "metadata": {
        "colab": {
          "base_uri": "https://localhost:8080/"
        },
        "id": "zCFVmRYGT3uF",
        "outputId": "3f074569-5598-4919-8161-5af81174cff8"
      },
      "execution_count": 17,
      "outputs": [
        {
          "output_type": "stream",
          "name": "stdout",
          "text": [
            "db3\n"
          ]
        }
      ]
    },
    {
      "cell_type": "code",
      "source": [
        "print(w.short_family_name)"
      ],
      "metadata": {
        "colab": {
          "base_uri": "https://localhost:8080/"
        },
        "id": "CmygeQl0T6-E",
        "outputId": "f9911f0b-cf73-4dbd-e9e1-aa32bcaab7dc"
      },
      "execution_count": 18,
      "outputs": [
        {
          "output_type": "stream",
          "name": "stdout",
          "text": [
            "db\n"
          ]
        }
      ]
    },
    {
      "cell_type": "code",
      "source": [
        "print(w.family_name)"
      ],
      "metadata": {
        "colab": {
          "base_uri": "https://localhost:8080/"
        },
        "id": "TKBMU9ORT8oU",
        "outputId": "eb4f9932-0325-4dac-8a7b-f461db3fa232"
      },
      "execution_count": 19,
      "outputs": [
        {
          "output_type": "stream",
          "name": "stdout",
          "text": [
            "Daubechies\n"
          ]
        }
      ]
    },
    {
      "cell_type": "markdown",
      "source": [
        "Decomposition (dec_len) and reconstruction (rec_len) filter lengths:"
      ],
      "metadata": {
        "id": "d13BSU0fUHsy"
      }
    },
    {
      "cell_type": "code",
      "source": [
        "int(w.dec_len) # int() is for normalizing longs and ints for doctest"
      ],
      "metadata": {
        "colab": {
          "base_uri": "https://localhost:8080/"
        },
        "id": "e3vvT40SUJR5",
        "outputId": "f130c483-6ab7-4e85-9cb4-f9d3e22c8161"
      },
      "execution_count": 20,
      "outputs": [
        {
          "output_type": "execute_result",
          "data": {
            "text/plain": [
              "6"
            ]
          },
          "metadata": {},
          "execution_count": 20
        }
      ]
    },
    {
      "cell_type": "code",
      "source": [
        "int(w.rec_len)"
      ],
      "metadata": {
        "colab": {
          "base_uri": "https://localhost:8080/"
        },
        "id": "iRXTmOJ6ULi-",
        "outputId": "3c470645-e829-4b61-b935-b361dc58f451"
      },
      "execution_count": 21,
      "outputs": [
        {
          "output_type": "execute_result",
          "data": {
            "text/plain": [
              "6"
            ]
          },
          "metadata": {},
          "execution_count": 21
        }
      ]
    },
    {
      "cell_type": "markdown",
      "source": [
        "Orthogonality (orthogonal) and biorthogonality (biorthogonal):"
      ],
      "metadata": {
        "id": "aGTqQQkhUVAx"
      }
    },
    {
      "cell_type": "code",
      "source": [
        "w.orthogonal"
      ],
      "metadata": {
        "colab": {
          "base_uri": "https://localhost:8080/"
        },
        "id": "eT1zQx06UVoc",
        "outputId": "df440c7c-03f2-423a-aad3-65910d0c26c9"
      },
      "execution_count": 22,
      "outputs": [
        {
          "output_type": "execute_result",
          "data": {
            "text/plain": [
              "True"
            ]
          },
          "metadata": {},
          "execution_count": 22
        }
      ]
    },
    {
      "cell_type": "code",
      "source": [
        "w.biorthogonal"
      ],
      "metadata": {
        "colab": {
          "base_uri": "https://localhost:8080/"
        },
        "id": "SX0gggP-UYaN",
        "outputId": "f5828a24-b93c-4ced-df2d-0cef27dc78eb"
      },
      "execution_count": 23,
      "outputs": [
        {
          "output_type": "execute_result",
          "data": {
            "text/plain": [
              "True"
            ]
          },
          "metadata": {},
          "execution_count": 23
        }
      ]
    },
    {
      "cell_type": "markdown",
      "source": [
        "Symmetry (symmetry):"
      ],
      "metadata": {
        "id": "uJpD373qUdkJ"
      }
    },
    {
      "cell_type": "code",
      "source": [
        "print(w.symmetry)"
      ],
      "metadata": {
        "colab": {
          "base_uri": "https://localhost:8080/"
        },
        "id": "0iYL3CJJUaO0",
        "outputId": "05c23c1c-d21a-4ef7-9619-c4b1d1b6f0cb"
      },
      "execution_count": 24,
      "outputs": [
        {
          "output_type": "stream",
          "name": "stdout",
          "text": [
            "asymmetric\n"
          ]
        }
      ]
    },
    {
      "cell_type": "markdown",
      "source": [
        "Number of vanishing moments for the scaling function phi (vanishing_moments_phi) and the wavelet function psi (vanishing_moments_psi) associated with the filters:"
      ],
      "metadata": {
        "id": "vuv8HMAJVMmS"
      }
    },
    {
      "cell_type": "code",
      "source": [
        "w.vanishing_moments_phi"
      ],
      "metadata": {
        "colab": {
          "base_uri": "https://localhost:8080/"
        },
        "id": "6yfHmNhVVNOd",
        "outputId": "24d29f4e-c29b-42fc-8ac5-c73342d804ab"
      },
      "execution_count": 25,
      "outputs": [
        {
          "output_type": "execute_result",
          "data": {
            "text/plain": [
              "0"
            ]
          },
          "metadata": {},
          "execution_count": 25
        }
      ]
    },
    {
      "cell_type": "code",
      "source": [
        "w.vanishing_moments_psi"
      ],
      "metadata": {
        "colab": {
          "base_uri": "https://localhost:8080/"
        },
        "id": "wRvjgmlOVRqh",
        "outputId": "fceaaf97-8246-4dc4-dee1-1d8165df5932"
      },
      "execution_count": 26,
      "outputs": [
        {
          "output_type": "execute_result",
          "data": {
            "text/plain": [
              "3"
            ]
          },
          "metadata": {},
          "execution_count": 26
        }
      ]
    },
    {
      "cell_type": "markdown",
      "source": [
        "Now when we know a bit about the builtin Wavelets, let’s see how to create custom Wavelets objects. These can be done in two ways:\n",
        "1. Passing the filter bank object that implements the filter_bank attribute. The attribute must return four filters coefficients.\n"
      ],
      "metadata": {
        "id": "ETXfnDrfVtrw"
      }
    },
    {
      "cell_type": "code",
      "source": [
        "class MyHaarFilterBank(object):\n",
        "...     @property\n",
        "...     def filter_bank(self):\n",
        "...         from math import sqrt\n",
        "...         return ([sqrt(2)/2, sqrt(2)/2], [-sqrt(2)/2, sqrt(2)/2],\n",
        "...                 [sqrt(2)/2, sqrt(2)/2], [sqrt(2)/2, -sqrt(2)/2])"
      ],
      "metadata": {
        "id": "ERtCSTkPVTYh"
      },
      "execution_count": 31,
      "outputs": []
    },
    {
      "cell_type": "code",
      "source": [
        "my_wavelet = pywt.Wavelet('My Haar Wavelet', filter_bank=MyHaarFilterBank())"
      ],
      "metadata": {
        "id": "kLZYy9wlV7rC"
      },
      "execution_count": 32,
      "outputs": []
    },
    {
      "cell_type": "markdown",
      "source": [
        "2. Passing the filters coefficients directly as the filter_bank parameter."
      ],
      "metadata": {
        "id": "m7SMRI_rVw-o"
      }
    },
    {
      "cell_type": "code",
      "source": [
        "from math import sqrt\n",
        "my_filter_bank = ([sqrt(2)/2, sqrt(2)/2], [-sqrt(2)/2, sqrt(2)/2],\n",
        "                  [sqrt(2)/2, sqrt(2)/2], [sqrt(2)/2, -sqrt(2)/2])\n",
        "my_wavelet = pywt.Wavelet('My Haar Wavelet', filter_bank=my_filter_bank)"
      ],
      "metadata": {
        "id": "jh1YHnpRWF_k"
      },
      "execution_count": 35,
      "outputs": []
    },
    {
      "cell_type": "markdown",
      "source": [
        "Note that such custom wavelets will not have all the properties set to correct values:"
      ],
      "metadata": {
        "id": "I4OxV7JdWlW4"
      }
    },
    {
      "cell_type": "code",
      "source": [
        "print(my_wavelet)"
      ],
      "metadata": {
        "colab": {
          "base_uri": "https://localhost:8080/"
        },
        "id": "u5hb14u-WLJ9",
        "outputId": "a37f01d9-d50c-40d6-96b8-41bdd4c50c6a"
      },
      "execution_count": 36,
      "outputs": [
        {
          "output_type": "stream",
          "name": "stdout",
          "text": [
            "Wavelet My Haar Wavelet\n",
            "  Family name:\n",
            "  Short name:\n",
            "  Filters length: 2\n",
            "  Orthogonal:     False\n",
            "  Biorthogonal:   False\n",
            "  Symmetry:       unknown\n",
            "  DWT:            True\n",
            "  CWT:            False\n"
          ]
        }
      ]
    },
    {
      "cell_type": "markdown",
      "source": [
        "You can however set a couple of them on your own:"
      ],
      "metadata": {
        "id": "pp594YxRWt8o"
      }
    },
    {
      "cell_type": "code",
      "source": [
        "my_wavelet.orthogonal"
      ],
      "metadata": {
        "colab": {
          "base_uri": "https://localhost:8080/"
        },
        "id": "9zVjV0GyWpCp",
        "outputId": "940baef8-5910-4ac5-fc00-3d5cdfaf281e"
      },
      "execution_count": 37,
      "outputs": [
        {
          "output_type": "execute_result",
          "data": {
            "text/plain": [
              "False"
            ]
          },
          "metadata": {},
          "execution_count": 37
        }
      ]
    },
    {
      "cell_type": "code",
      "source": [
        "my_wavelet.biorthogonal"
      ],
      "metadata": {
        "colab": {
          "base_uri": "https://localhost:8080/"
        },
        "id": "-RYN8VyRWuX3",
        "outputId": "3c41aa1b-15e9-4c81-e4ef-c64b5c0346a2"
      },
      "execution_count": 39,
      "outputs": [
        {
          "output_type": "execute_result",
          "data": {
            "text/plain": [
              "False"
            ]
          },
          "metadata": {},
          "execution_count": 39
        }
      ]
    },
    {
      "cell_type": "code",
      "source": [
        "print(my_wavelet)"
      ],
      "metadata": {
        "colab": {
          "base_uri": "https://localhost:8080/"
        },
        "id": "BzO-3_VhXG6g",
        "outputId": "269530e1-4b50-496b-891c-7bd0bbd7e3fb"
      },
      "execution_count": 40,
      "outputs": [
        {
          "output_type": "stream",
          "name": "stdout",
          "text": [
            "Wavelet My Haar Wavelet\n",
            "  Family name:\n",
            "  Short name:\n",
            "  Filters length: 2\n",
            "  Orthogonal:     False\n",
            "  Biorthogonal:   False\n",
            "  Symmetry:       unknown\n",
            "  DWT:            True\n",
            "  CWT:            False\n"
          ]
        }
      ]
    },
    {
      "cell_type": "markdown",
      "source": [
        "This is the purpose of the wavefun() method, which is used to approximate scaling function (phi) and wavelet function (psi) at the given level of refinement, based on the filters coefficients.\n",
        "\n",
        "The number of returned values varies depending on the wavelet’s orthogonality property. For orthogonal wavelets the result is tuple with scaling function, wavelet function and xgrid coordinates."
      ],
      "metadata": {
        "id": "snDH28dyaqDP"
      }
    },
    {
      "cell_type": "code",
      "source": [
        "w = pywt.Wavelet('sym3')"
      ],
      "metadata": {
        "id": "NPoOHEbiaYAX"
      },
      "execution_count": 41,
      "outputs": []
    },
    {
      "cell_type": "code",
      "source": [
        "w.orthogonal"
      ],
      "metadata": {
        "colab": {
          "base_uri": "https://localhost:8080/"
        },
        "id": "-zH77I5Zasew",
        "outputId": "3bfb24d9-c376-434f-ace5-21f297960f9f"
      },
      "execution_count": 42,
      "outputs": [
        {
          "output_type": "execute_result",
          "data": {
            "text/plain": [
              "True"
            ]
          },
          "metadata": {},
          "execution_count": 42
        }
      ]
    },
    {
      "cell_type": "code",
      "source": [
        "(phi, psi, x) = w.wavefun(level=5)"
      ],
      "metadata": {
        "id": "B6my7cuiauRM"
      },
      "execution_count": 43,
      "outputs": []
    },
    {
      "cell_type": "markdown",
      "source": [
        "For biorthogonal (non-orthogonal) wavelets different scaling and wavelet functions are used for decomposition and reconstruction, and thus five elements are returned: decomposition scaling and wavelet functions approximations, reconstruction scaling and wavelet functions approximations, and the xgrid."
      ],
      "metadata": {
        "id": "0lIikkmRazQI"
      }
    },
    {
      "cell_type": "code",
      "source": [
        "w = pywt.Wavelet('bior1.3')"
      ],
      "metadata": {
        "id": "ENWex8eJaw6D"
      },
      "execution_count": 44,
      "outputs": []
    },
    {
      "cell_type": "code",
      "source": [
        "w.orthogonal"
      ],
      "metadata": {
        "colab": {
          "base_uri": "https://localhost:8080/"
        },
        "id": "ue8AKZF1azv8",
        "outputId": "dcc4ac21-587f-4f73-f539-8b6de4cf47d5"
      },
      "execution_count": 45,
      "outputs": [
        {
          "output_type": "execute_result",
          "data": {
            "text/plain": [
              "False"
            ]
          },
          "metadata": {},
          "execution_count": 45
        }
      ]
    },
    {
      "cell_type": "code",
      "source": [
        "(phi_d, psi_d, phi_r, psi_r, x) = w.wavefun(level=5)"
      ],
      "metadata": {
        "id": "FFpXvHNqa3nH"
      },
      "execution_count": 46,
      "outputs": []
    },
    {
      "cell_type": "code",
      "source": [
        ""
      ],
      "metadata": {
        "id": "lF6ukT_Oa5LT"
      },
      "execution_count": null,
      "outputs": []
    }
  ]
}