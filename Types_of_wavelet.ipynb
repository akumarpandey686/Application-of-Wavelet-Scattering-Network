{
  "nbformat": 4,
  "nbformat_minor": 0,
  "metadata": {
    "colab": {
      "name": "Types of wavelet.ipynb",
      "provenance": [],
      "authorship_tag": "ABX9TyNUlXP8styT/DBFXAjGTEUk"
    },
    "kernelspec": {
      "name": "python3",
      "display_name": "Python 3"
    },
    "language_info": {
      "name": "python"
    }
  },
  "cells": [
    {
      "cell_type": "code",
      "execution_count": 6,
      "metadata": {
        "colab": {
          "base_uri": "https://localhost:8080/"
        },
        "id": "B0-ZTlKERpfo",
        "outputId": "820d49fd-ef18-4a28-c8af-d85f19ee1ba4"
      },
      "outputs": [
        {
          "output_type": "stream",
          "name": "stdout",
          "text": [
            "['Haar', 'Daubechies', 'Symlets', 'Coiflets', 'Biorthogonal', 'Reverse biorthogonal', 'Discrete Meyer (FIR Approximation)', 'Gaussian', 'Mexican hat wavelet', 'Morlet wavelet', 'Complex Gaussian wavelets', 'Shannon wavelets', 'Frequency B-Spline wavelets', 'Complex Morlet wavelets']\n"
          ]
        },
        {
          "output_type": "execute_result",
          "data": {
            "text/plain": [
              "['Haar',\n",
              " 'Daubechies',\n",
              " 'Symlets',\n",
              " 'Coiflets',\n",
              " 'Biorthogonal',\n",
              " 'Reverse biorthogonal',\n",
              " 'Discrete Meyer (FIR Approximation)',\n",
              " 'Gaussian',\n",
              " 'Mexican hat wavelet',\n",
              " 'Morlet wavelet',\n",
              " 'Complex Gaussian wavelets',\n",
              " 'Shannon wavelets',\n",
              " 'Frequency B-Spline wavelets',\n",
              " 'Complex Morlet wavelets']"
            ]
          },
          "metadata": {},
          "execution_count": 6
        }
      ],
      "source": [
        "import pywt\n",
        "print(pywt.families(short=False))\n",
        "['Haar', 'Daubechies', 'Symlets', 'Coiflets', 'Biorthogonal', 'Reverse biorthogonal', \n",
        "'Discrete Meyer (FIR Approximation)', 'Gaussian', 'Mexican hat wavelet', 'Morlet wavelet', \n",
        "'Complex Gaussian wavelets', 'Shannon wavelets', 'Frequency B-Spline wavelets', 'Complex Morlet wavelets']"
      ]
    },
    {
      "cell_type": "code",
      "source": [
        "import pywt\n",
        "print(pywt.families(short=True))\n",
        "# ['Haar', 'Daubechies', 'Symlets', 'Coiflets', 'Biorthogonal', 'Reverse biorthogonal', \n",
        "# 'Discrete Meyer (FIR Approximation)', 'Gaussian', 'Mexican hat wavelet', 'Morlet wavelet', \n",
        "# 'Complex Gaussian wavelets', 'Shannon wavelets', 'Frequency B-Spline wavelets', 'Complex Morlet wavelets']"
      ],
      "metadata": {
        "colab": {
          "base_uri": "https://localhost:8080/"
        },
        "id": "JbVxUugDRzZG",
        "outputId": "90a18b62-f5c6-45eb-d37c-ecd9590c49c1"
      },
      "execution_count": 7,
      "outputs": [
        {
          "output_type": "stream",
          "name": "stdout",
          "text": [
            "['haar', 'db', 'sym', 'coif', 'bior', 'rbio', 'dmey', 'gaus', 'mexh', 'morl', 'cgau', 'shan', 'fbsp', 'cmor']\n"
          ]
        }
      ]
    },
    {
      "cell_type": "code",
      "source": [
        ""
      ],
      "metadata": {
        "id": "9mRanIcrR5FR"
      },
      "execution_count": null,
      "outputs": []
    }
  ]
}